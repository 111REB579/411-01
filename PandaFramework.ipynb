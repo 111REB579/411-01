{
  "nbformat": 4,
  "nbformat_minor": 0,
  "metadata": {
    "colab": {
      "name": "PandaFramework.ipynb",
      "provenance": [],
      "collapsed_sections": [],
      "authorship_tag": "ABX9TyMJsHwfyuOpPDMmCCJ6eRrU",
      "include_colab_link": true
    },
    "kernelspec": {
      "name": "python3",
      "display_name": "Python 3"
    }
  },
  "cells": [
    {
      "cell_type": "markdown",
      "metadata": {
        "id": "view-in-github",
        "colab_type": "text"
      },
      "source": [
        "<a href=\"https://colab.research.google.com/github/111REB579/411-01/blob/master/PandaFramework.ipynb\" target=\"_parent\"><img src=\"https://colab.research.google.com/assets/colab-badge.svg\" alt=\"Open In Colab\"/></a>"
      ]
    },
    {
      "cell_type": "markdown",
      "metadata": {
        "id": "oQuGUGHGY4IS",
        "colab_type": "text"
      },
      "source": [
        ""
      ]
    },
    {
      "cell_type": "code",
      "metadata": {
        "id": "g4xrZpSibEfj",
        "colab_type": "code",
        "colab": {
          "base_uri": "https://localhost:8080/",
          "height": 204
        },
        "outputId": "1c201780-609b-4ee2-eb6b-4e8a8f824294"
      },
      "source": [
        "import pandas as pd \n",
        "pd.set_option('display.max_rows', None)\n",
        "data = pd.read_csv(\"event_log.csv\") \n",
        "data.head()"
      ],
      "execution_count": 3,
      "outputs": [
        {
          "output_type": "execute_result",
          "data": {
            "text/html": [
              "<div>\n",
              "<style scoped>\n",
              "    .dataframe tbody tr th:only-of-type {\n",
              "        vertical-align: middle;\n",
              "    }\n",
              "\n",
              "    .dataframe tbody tr th {\n",
              "        vertical-align: top;\n",
              "    }\n",
              "\n",
              "    .dataframe thead th {\n",
              "        text-align: right;\n",
              "    }\n",
              "</style>\n",
              "<table border=\"1\" class=\"dataframe\">\n",
              "  <thead>\n",
              "    <tr style=\"text-align: right;\">\n",
              "      <th></th>\n",
              "      <th>Level</th>\n",
              "      <th>Date and Time</th>\n",
              "      <th>Source</th>\n",
              "      <th>Event ID</th>\n",
              "      <th>Task Category</th>\n",
              "    </tr>\n",
              "  </thead>\n",
              "  <tbody>\n",
              "    <tr>\n",
              "      <th>Warning</th>\n",
              "      <td>16.09.2020 10:33:53</td>\n",
              "      <td>Microsoft-Windows-DistributedCOM</td>\n",
              "      <td>10016</td>\n",
              "      <td>None</td>\n",
              "      <td>The machine-default permission settings do not...</td>\n",
              "    </tr>\n",
              "    <tr>\n",
              "      <th>Warning</th>\n",
              "      <td>16.09.2020 10:33:51</td>\n",
              "      <td>Microsoft-Windows-DistributedCOM</td>\n",
              "      <td>10016</td>\n",
              "      <td>None</td>\n",
              "      <td>The machine-default permission settings do not...</td>\n",
              "    </tr>\n",
              "    <tr>\n",
              "      <th>Warning</th>\n",
              "      <td>16.09.2020 10:31:50</td>\n",
              "      <td>Microsoft-Windows-DistributedCOM</td>\n",
              "      <td>10016</td>\n",
              "      <td>None</td>\n",
              "      <td>The machine-default permission settings do not...</td>\n",
              "    </tr>\n",
              "    <tr>\n",
              "      <th>Information</th>\n",
              "      <td>16.09.2020 10:24:20</td>\n",
              "      <td>Service Control Manager</td>\n",
              "      <td>7040</td>\n",
              "      <td>None</td>\n",
              "      <td>The start type of the Background Intelligent T...</td>\n",
              "    </tr>\n",
              "    <tr>\n",
              "      <th>Information</th>\n",
              "      <td>16.09.2020 10:22:15</td>\n",
              "      <td>Service Control Manager</td>\n",
              "      <td>7040</td>\n",
              "      <td>None</td>\n",
              "      <td>The start type of the Background Intelligent T...</td>\n",
              "    </tr>\n",
              "  </tbody>\n",
              "</table>\n",
              "</div>"
            ],
            "text/plain": [
              "                           Level  ...                                      Task Category\n",
              "Warning      16.09.2020 10:33:53  ...  The machine-default permission settings do not...\n",
              "Warning      16.09.2020 10:33:51  ...  The machine-default permission settings do not...\n",
              "Warning      16.09.2020 10:31:50  ...  The machine-default permission settings do not...\n",
              "Information  16.09.2020 10:24:20  ...  The start type of the Background Intelligent T...\n",
              "Information  16.09.2020 10:22:15  ...  The start type of the Background Intelligent T...\n",
              "\n",
              "[5 rows x 5 columns]"
            ]
          },
          "metadata": {
            "tags": []
          },
          "execution_count": 3
        }
      ]
    }
  ]
}